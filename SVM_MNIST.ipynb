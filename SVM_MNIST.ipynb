{
 "cells": [
  {
   "cell_type": "code",
   "execution_count": null,
   "metadata": {},
   "outputs": [],
   "source": [
    "%pip install torch torchvision scikit-learn matplotlib tqdm tensorboard"
   ]
  },
  {
   "cell_type": "code",
   "execution_count": null,
   "metadata": {},
   "outputs": [],
   "source": [
    "import numpy as np\n",
    "from sklearn import svm\n",
    "from sklearn.metrics import accuracy_score\n",
    "from sklearn.multiclass import OneVsRestClassifier\n",
    "from torchvision import datasets, transforms\n",
    "from torch.utils.data import DataLoader\n",
    "import torch\n",
    "from sklearn.preprocessing import StandardScaler\n",
    "from tqdm import tqdm\n",
    "import matplotlib.pyplot as plt\n",
    "from sklearn.model_selection import learning_curve\n",
    "from torch.utils.tensorboard import SummaryWriter\n",
    "import datetime\n",
    "from sklearn.model_selection import train_test_split\n",
    "\n",
    "# TensorBoard setup\n",
    "log_dir = \"logs/fit/\" + datetime.datetime.now().strftime(\"%Y%m%d-%H%M%S\")\n",
    "writer = SummaryWriter(log_dir)"
   ]
  },
  {
   "cell_type": "code",
   "execution_count": null,
   "metadata": {},
   "outputs": [],
   "source": [
    "# Data loading and preprocessing\n",
    "transform = transforms.Compose([\n",
    "    transforms.ToTensor(),\n",
    "    transforms.Normalize((0.1307,), (0.3081,))\n",
    "])\n",
    "\n",
    "train_dataset = datasets.MNIST(root='./data', train=True, download=True, transform=transform)\n",
    "test_dataset = datasets.MNIST(root='./data', train=False, download=True, transform=transform)\n",
    "\n",
    "train_loader = DataLoader(train_dataset, batch_size=len(train_dataset), shuffle=True)\n",
    "test_loader = DataLoader(test_dataset, batch_size=len(test_dataset), shuffle=False)"
   ]
  },
  {
   "cell_type": "code",
   "execution_count": null,
   "metadata": {},
   "outputs": [],
   "source": [
    "# Convert data to numpy arrays\n",
    "X_train, y_train = next(iter(train_loader))\n",
    "X_test, y_test = next(iter(test_loader))\n",
    "\n",
    "X_train = X_train.numpy().reshape(X_train.shape[0], -1)\n",
    "y_train = y_train.numpy()\n",
    "X_test = X_test.numpy().reshape(X_test.shape[0], -1)\n",
    "y_test = y_test.numpy()"
   ]
  },
  {
   "cell_type": "code",
   "execution_count": null,
   "metadata": {},
   "outputs": [],
   "source": [
    "# Standardize the data\n",
    "scaler = StandardScaler()\n",
    "X_train = scaler.fit_transform(X_train)\n",
    "X_test = scaler.transform(X_test)"
   ]
  },
  {
   "cell_type": "code",
   "execution_count": null,
   "metadata": {},
   "outputs": [],
   "source": [
    "# Split training data into training and validation sets\n",
    "X_train, X_val, y_train, y_val = train_test_split(X_train, y_train, test_size=0.2, random_state=42)"
   ]
  },
  {
   "cell_type": "code",
   "execution_count": null,
   "metadata": {},
   "outputs": [],
   "source": [
    "# SVM classifier\n",
    "svm_classifier = OneVsRestClassifier(svm.SVC(kernel='rbf', C=1, gamma='scale', probability=True))"
   ]
  },
  {
   "cell_type": "code",
   "execution_count": null,
   "metadata": {},
   "outputs": [],
   "source": [
    "# Function to train and evaluate the model\n",
    "def train_and_evaluate(X_train, y_train, X_val, y_val, X_test, y_test):\n",
    "    print(\"Training SVM classifier...\")\n",
    "    svm_classifier.fit(X_train, y_train)\n",
    "    \n",
    "    # Evaluate on training set\n",
    "    y_train_pred = svm_classifier.predict(X_train)\n",
    "    train_accuracy = accuracy_score(y_train, y_train_pred)\n",
    "    \n",
    "    # Evaluate on validation set\n",
    "    y_val_pred = svm_classifier.predict(X_val)\n",
    "    val_accuracy = accuracy_score(y_val, y_val_pred)\n",
    "    \n",
    "    # Evaluate on test set\n",
    "    y_test_pred = svm_classifier.predict(X_test)\n",
    "    test_accuracy = accuracy_score(y_test, y_test_pred)\n",
    "    \n",
    "    return train_accuracy, val_accuracy, test_accuracy"
   ]
  },
  {
   "cell_type": "code",
   "execution_count": null,
   "metadata": {},
   "outputs": [],
   "source": [
    "# Train and evaluate the model with different training set sizes\n",
    "train_sizes = np.linspace(0.1, 1.0, 10)\n",
    "for i, train_size in enumerate(train_sizes):\n",
    "    n_samples = int(len(X_train) * train_size)\n",
    "    X_train_subset = X_train[:n_samples]\n",
    "    y_train_subset = y_train[:n_samples]\n",
    "    \n",
    "    train_accuracy, val_accuracy, test_accuracy = train_and_evaluate(X_train_subset, y_train_subset, X_val, y_val, X_test, y_test)\n",
    "    \n",
    "    print(f\"Training size: {n_samples}\")\n",
    "    print(f\"Train accuracy: {train_accuracy:.4f}\")\n",
    "    print(f\"Validation accuracy: {val_accuracy:.4f}\")\n",
    "    print(f\"Test accuracy: {test_accuracy:.4f}\")\n",
    "    print()\n",
    "    \n",
    "    # Log to TensorBoard\n",
    "    writer.add_scalar('Accuracy/train', train_accuracy, n_samples)\n",
    "    writer.add_scalar('Accuracy/validation', val_accuracy, n_samples)\n",
    "    writer.add_scalar('Accuracy/test', test_accuracy, n_samples)\n",
    "\n",
    "# Close the TensorBoard writer\n",
    "writer.close()\n",
    "\n",
    "print(\"Training and evaluation complete. TensorBoard logs have been written.\")"
   ]
  },
  {
   "cell_type": "code",
   "execution_count": null,
   "metadata": {},
   "outputs": [],
   "source": [
    "%load_ext tensorboard\n",
    "%tensorboard --logdir logs/fit"
   ]
  }
 ],
 "metadata": {
  "language_info": {
   "name": "python"
  }
 },
 "nbformat": 4,
 "nbformat_minor": 2
}
